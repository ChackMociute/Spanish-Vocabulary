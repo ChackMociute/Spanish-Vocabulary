{
 "cells": [
  {
   "cell_type": "code",
   "execution_count": 1,
   "id": "e188bb0f-dee2-4e3e-999a-a68b8efe8d68",
   "metadata": {},
   "outputs": [],
   "source": [
    "import pandas as pd\n",
    "from random import choice\n",
    "from IPython.display import clear_output\n",
    "\n",
    "POS = ['Verbs', 'Nouns', 'Other']\n",
    "LAN = ['English', 'Spanish']\n",
    "\n",
    "df = pd.read_csv(\"https://docs.google.com/spreadsheets/d/e/2PACX-1vT6I046wKt5Z3YGh28zQ3k7vYtXXwRw3tZn9ZWgWpM6ydklVk-yDLR0zyw8rMOw3w/pub?gid=1212610006&single=true&output=csv\",\n",
    "                 skiprows=22, header=[0, 1]).iloc[:, 7:13]\n",
    "df.columns = pd.MultiIndex.from_arrays([['Verbs', 'Verbs', 'Nouns', 'Nouns', 'Other', 'Other'], LAN*3])\n",
    "for pos in POS:\n",
    "    df[(pos, 'Prob')] = df[(pos, 'English')].dropna().count()\n",
    "\n",
    "words = [*['Verbs'] * len(df.Verbs.dropna()),\n",
    "         *['Nouns'] * len(df.Nouns.dropna()),\n",
    "         *['Other'] * len(df.Other.dropna())]"
   ]
  },
  {
   "cell_type": "code",
   "execution_count": 2,
   "id": "a0099a18-fe55-4a93-ab95-46b994be1c92",
   "metadata": {},
   "outputs": [],
   "source": [
    "while True:\n",
    "    word = choice(words)\n",
    "    lang = choice([0, 0, 1])\n",
    "    c = df[word].dropna().sample(1, weights='Prob')\n",
    "    \n",
    "    df[(word, 'Prob')] += 1\n",
    "    df.at[c.index[0], (word, 'Prob')] = 0\n",
    "    \n",
    "    c = c.values.flatten().astype(str)\n",
    "    print(f\"[{word.upper()}] Translate:\\t{c[lang]}\\n\")\n",
    "    ans = input()\n",
    "    clear_output()\n",
    "    \n",
    "    if ans == 'q': break\n",
    "    print(f\"You guessed:\\t{ans}\\n\")\n",
    "    print(f\"Word {c[1].upper()} is a '{word.lower()}' and means {c[0].upper()}\\n\\n\")"
   ]
  }
 ],
 "metadata": {
  "kernelspec": {
   "display_name": "Python 3 (ipykernel)",
   "language": "python",
   "name": "python3"
  },
  "language_info": {
   "codemirror_mode": {
    "name": "ipython",
    "version": 3
   },
   "file_extension": ".py",
   "mimetype": "text/x-python",
   "name": "python",
   "nbconvert_exporter": "python",
   "pygments_lexer": "ipython3",
   "version": "3.10.2"
  }
 },
 "nbformat": 4,
 "nbformat_minor": 5
}
